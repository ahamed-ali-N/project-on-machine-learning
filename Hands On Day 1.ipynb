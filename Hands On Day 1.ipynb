{
 "cells": [
  {
   "cell_type": "code",
   "execution_count": 1,
   "id": "bef9de93-fa8d-4577-8633-2533a90a5d73",
   "metadata": {},
   "outputs": [],
   "source": [
    "#declare a variable\n",
    "#variable are the containers use to store any data types\n",
    "X=10"
   ]
  },
  {
   "cell_type": "code",
   "execution_count": 2,
   "id": "c66e80f0-4060-4ff3-b150-50203a7826c8",
   "metadata": {},
   "outputs": [
    {
     "name": "stdout",
     "output_type": "stream",
     "text": [
      "10\n"
     ]
    }
   ],
   "source": [
    "# print the variable \n",
    "print(X)"
   ]
  },
  {
   "cell_type": "code",
   "execution_count": 3,
   "id": "0659bc9f-b1f9-47d5-bc19-64cf5adb37c9",
   "metadata": {},
   "outputs": [
    {
     "data": {
      "text/plain": [
       "int"
      ]
     },
     "execution_count": 3,
     "metadata": {},
     "output_type": "execute_result"
    }
   ],
   "source": [
    "#check the datatype of the variable\n",
    "type(X)\n"
   ]
  },
  {
   "cell_type": "code",
   "execution_count": 4,
   "id": "59ab072d-9cdb-42cf-9a1d-26d4d7636816",
   "metadata": {},
   "outputs": [
    {
     "name": "stdout",
     "output_type": "stream",
     "text": [
      "datatype of the varaiable <class 'int'>\n"
     ]
    }
   ],
   "source": [
    "# create the integer data type\n",
    "int_1= 20\n",
    "\n",
    "# show the data type\n",
    "print('datatype of the varaiable',type (int_1))"
   ]
  },
  {
   "cell_type": "code",
   "execution_count": 5,
   "id": "9327553b-a769-4776-bd2e-3f985d3ab8df",
   "metadata": {},
   "outputs": [
    {
     "name": "stdout",
     "output_type": "stream",
     "text": [
      "datatype of the varaiable <class 'float'>\n"
     ]
    }
   ],
   "source": [
    "# create an float datatype\n",
    "float_1=20.38\n",
    "\n",
    "# show the datatype\n",
    "print('datatype of the varaiable',type (float_1))"
   ]
  },
  {
   "cell_type": "code",
   "execution_count": 6,
   "id": "73ac6ca1-ced3-4ec5-8b1a-188989de2a69",
   "metadata": {},
   "outputs": [
    {
     "name": "stdout",
     "output_type": "stream",
     "text": [
      "datatype of the varaiable <class 'str'>\n"
     ]
    }
   ],
   "source": [
    "# create an string datatype\n",
    "string_1='Gopal'\n",
    "\n",
    "\n",
    "# show the data type\n",
    "print('datatype of the varaiable',type (string_1))\n",
    "\n",
    "\n"
   ]
  },
  {
   "cell_type": "code",
   "execution_count": null,
   "id": "8450a30c-3afe-4726-bb57-b15a47ba4d0b",
   "metadata": {},
   "outputs": [],
   "source": []
  },
  {
   "cell_type": "code",
   "execution_count": 7,
   "id": "3f37f590-977f-4d78-96b1-7491ab1eb29c",
   "metadata": {},
   "outputs": [
    {
     "name": "stdout",
     "output_type": "stream",
     "text": [
      "datatype of the varaiable <class 'list'>\n",
      "datatype of the varaiable <class 'list'>\n",
      "datatype of the varaiable <class 'list'>\n"
     ]
    }
   ],
   "source": [
    "# create an list\n",
    "list_1=[10,20,30,40,50]\n",
    "list_2=[10.38,20.46,30.39,40.68]\n",
    "list_3=['Gopal','Nirmal','Nandhini','pooja']\n",
    "\n",
    "# show the data type\n",
    "print('datatype of the varaiable',type (list_1))\n",
    "print('datatype of the varaiable',type (list_2))\n",
    "print('datatype of the varaiable',type (list_3))\n"
   ]
  },
  {
   "cell_type": "code",
   "execution_count": 8,
   "id": "258de1b5-1c73-4d25-aea7-a493e757c5ab",
   "metadata": {
    "scrolled": true
   },
   "outputs": [
    {
     "name": "stdout",
     "output_type": "stream",
     "text": [
      "datatype of the varaiable <class 'set'>\n",
      "datatype of the varaiable <class 'set'>\n",
      "datatype of the varaiable <class 'set'>\n"
     ]
    }
   ],
   "source": [
    "# create an set\n",
    "set_1={10,20,30,40,50}\n",
    "set_2={10.38,20.46,30.39,40.68}\n",
    "set_3={'Gopal','Nirmal','Nandhini','pooja'}\n",
    "\n",
    "# show the data type\n",
    "print('datatype of the varaiable',type (set_1))\n",
    "print('datatype of the varaiable',type (set_2))\n",
    "print('datatype of the varaiable',type (set_3))\n"
   ]
  },
  {
   "cell_type": "code",
   "execution_count": 9,
   "id": "08a772b6-2bff-4467-910a-e2e8b0a44f6f",
   "metadata": {},
   "outputs": [
    {
     "name": "stdout",
     "output_type": "stream",
     "text": [
      "datatype of the varaiable <class 'bool'>\n",
      "datatype of the varaiable <class 'bool'>\n"
     ]
    }
   ],
   "source": [
    "# create an boolean datatype \n",
    "boolean_1=True\n",
    "boolean_2=False\n",
    "\n",
    "# show the data type\n",
    "print('datatype of the varaiable',type (boolean_1))\n",
    "print('datatype of the varaiable',type (boolean_2))\n",
    "\n"
   ]
  },
  {
   "cell_type": "code",
   "execution_count": 10,
   "id": "6469d764-dcae-4a34-a5d1-3e9ee0c9e3f0",
   "metadata": {},
   "outputs": [
    {
     "name": "stdout",
     "output_type": "stream",
     "text": [
      "datatype of the varaiable <class 'dict'>\n"
     ]
    }
   ],
   "source": [
    "# create an dictionary\n",
    "dictionary_1={'list_1':[10,20,30,40],\n",
    "             'tuple_1':(10,20,30,40),\n",
    "             'set_1':{10,20,30,40}}\n",
    "\n",
    "# show the data type\n",
    "print('datatype of the varaiable',type (dictionary_1))"
   ]
  },
  {
   "cell_type": "markdown",
   "id": "c32f4cf0-97de-4a95-bcae-ebb1257b0d5e",
   "metadata": {},
   "source": [
    "# basic operations"
   ]
  },
  {
   "cell_type": "code",
   "execution_count": 12,
   "id": "7cbd93fd-8ff9-4702-9127-0ffb2f2ace6b",
   "metadata": {},
   "outputs": [
    {
     "name": "stdout",
     "output_type": "stream",
     "text": [
      "datatype of the varaiable <class 'float'>\n",
      "datatype of the varaiable <class 'int'>\n"
     ]
    }
   ],
   "source": [
    "# task1:type casting\n",
    "float_2=45.96\n",
    "\n",
    "# show the data type\n",
    "print('datatype of the varaiable',type (float_2))\n",
    "\n",
    "# do the type casting\n",
    "int_2=int(float_2)\n",
    "\n",
    "# show the data type\n",
    "print('datatype of the varaiable',type (int_2))\n",
    "\n",
    "\n",
    "                                        \n"
   ]
  },
  {
   "cell_type": "code",
   "execution_count": 13,
   "id": "0cfe9f2e-6d5f-4dd1-a6d6-1e8c87c6e992",
   "metadata": {},
   "outputs": [
    {
     "name": "stdout",
     "output_type": "stream",
     "text": [
      "datatype of the varaiable <class 'int'>\n",
      "datatype of the varaiable <class 'float'>\n"
     ]
    }
   ],
   "source": [
    "# task1:type casting(integerr to float)\n",
    "int_3=5\n",
    "\n",
    "# show the data type\n",
    "print('datatype of the varaiable',type (int_3))\n",
    "\n",
    "# do the type casting\n",
    "float_3=float(int_3)\n",
    "\n",
    "# show the data type\n",
    "print('datatype of the varaiable',type (float_3))\n"
   ]
  },
  {
   "cell_type": "code",
   "execution_count": 14,
   "id": "aeb008a6-2df0-4499-9a9b-3887332509cf",
   "metadata": {},
   "outputs": [
    {
     "name": "stdout",
     "output_type": "stream",
     "text": [
      "rounded value are : 10.123\n"
     ]
    }
   ],
   "source": [
    "# task2:use of round function\n",
    "float_4=10.1234567890\n",
    "\n",
    "# round this value  till 3 decimal places \n",
    "rounded_value = round(float_4,3)\n",
    "\n",
    "#show the output \n",
    "print('rounded value are :',rounded_value)"
   ]
  },
  {
   "cell_type": "markdown",
   "id": "fa1cae1b-4f33-4678-8183-fb0007cd8ffd",
   "metadata": {},
   "source": [
    "# Arithmetic operations on data"
   ]
  },
  {
   "cell_type": "code",
   "execution_count": 16,
   "id": "2c8575fe-50ec-40a7-bc19-a80b8bd7149f",
   "metadata": {},
   "outputs": [
    {
     "name": "stdout",
     "output_type": "stream",
     "text": [
      "addition of two variable: 30\n"
     ]
    }
   ],
   "source": [
    "# addtion operation\n",
    "# declare the variable \n",
    "a=10\n",
    "b=20\n",
    "\n",
    "#perform the sum \n",
    "sum_1=a+b\n",
    "\n",
    "#show the output\n",
    "print('addition of two variable:',sum_1)\n"
   ]
  },
  {
   "cell_type": "code",
   "execution_count": 17,
   "id": "0dbb7ad0-4490-4870-90e6-62f137b49572",
   "metadata": {},
   "outputs": [
    {
     "name": "stdout",
     "output_type": "stream",
     "text": [
      "addition of two variable: -10\n"
     ]
    }
   ],
   "source": [
    "# subraction operation\n",
    "# declare the variable \n",
    "a=10\n",
    "b=20\n",
    "\n",
    "#perform the sum\n",
    "sum_1=a-b\n",
    "\n",
    "#show the output\n",
    "print('addition of two variable:',sum_1)\n"
   ]
  },
  {
   "cell_type": "code",
   "execution_count": 18,
   "id": "9d68fe5b-5514-4d3c-87eb-7eca198af43c",
   "metadata": {},
   "outputs": [
    {
     "name": "stdout",
     "output_type": "stream",
     "text": [
      "addition of two variable: 0.5\n"
     ]
    }
   ],
   "source": [
    " # division operation\n",
    "# declare the variable \n",
    "a=10\n",
    "b=20\n",
    "\n",
    "#perform the sum\n",
    "sum_1=a/b\n",
    "\n",
    "#show the output\n",
    "print('addition of two variable:',sum_1)\n"
   ]
  },
  {
   "cell_type": "code",
   "execution_count": 19,
   "id": "b4ac1500-8676-4962-9f0b-1b3a3ca384c0",
   "metadata": {},
   "outputs": [
    {
     "name": "stdout",
     "output_type": "stream",
     "text": [
      "addition of two variable: 200\n"
     ]
    }
   ],
   "source": [
    "# multiplication operation\n",
    "# declare the variable \n",
    "a=10\n",
    "b=20\n",
    "\n",
    "#perform the sum\n",
    "sum_1=a*b\n",
    "\n",
    "#show the output\n",
    "print('addition of two variable:',sum_1)\n"
   ]
  },
  {
   "cell_type": "markdown",
   "id": "8c11e7cf-5080-4e41-ae45-f7e73beeda44",
   "metadata": {},
   "source": [
    "# user defined function"
   ]
  },
  {
   "cell_type": "code",
   "execution_count": 21,
   "id": "d8359050-7f35-4fa8-9bc9-2d2473e371bb",
   "metadata": {},
   "outputs": [
    {
     "data": {
      "text/plain": [
       "30"
      ]
     },
     "execution_count": 21,
     "metadata": {},
     "output_type": "execute_result"
    }
   ],
   "source": [
    "# Declare the function named as 'summation',who can perform the addtion in two numbers\n",
    "def summation():\n",
    "    x=10\n",
    "    y=20\n",
    "    summation=x+y \n",
    "    return summation\n",
    "\n",
    "#call the function\n",
    "summation()\n"
   ]
  },
  {
   "cell_type": "code",
   "execution_count": 22,
   "id": "eaf23680-250f-46e3-bd14-25f14ef7c199",
   "metadata": {},
   "outputs": [
    {
     "data": {
      "text/plain": [
       "-10"
      ]
     },
     "execution_count": 22,
     "metadata": {},
     "output_type": "execute_result"
    }
   ],
   "source": [
    "# declare the function named as 'subraction',\n",
    "#who can perform subract between two varaibles\n",
    "def subraction(x,y):\n",
    "    subraction=x-y\n",
    "    return subraction\n",
    "\n",
    "#call the function\n",
    "subraction(10,20)\n"
   ]
  },
  {
   "cell_type": "code",
   "execution_count": 23,
   "id": "2120f3a3-5c3d-4043-b6d4-4a1427c8ce70",
   "metadata": {},
   "outputs": [
    {
     "name": "stdin",
     "output_type": "stream",
     "text": [
      "Give the first number: 55\n",
      "Give the second number: 55\n"
     ]
    },
    {
     "data": {
      "text/plain": [
       "3025"
      ]
     },
     "execution_count": 23,
     "metadata": {},
     "output_type": "execute_result"
    }
   ],
   "source": [
    "# declare the function named as 'mutiplication',\n",
    "# who can perform mutiple between two variables\n",
    "# this time you need to take the input from the user \n",
    "\n",
    "# take the input from the user\n",
    "var_2=int(input('Give the first number:'))\n",
    "var_3=int(input('Give the second number:'))\n",
    "\n",
    "# make the user defined function\n",
    "def multiplication(var_2,var_3):\n",
    "    mul=var_2*var_3\n",
    "    return mul\n",
    "\n",
    "#call the function \n",
    "multiplication(var_2,var_3)\n"
   ]
  },
  {
   "cell_type": "code",
   "execution_count": null,
   "id": "fffcd1a9-bbb4-4972-93c3-5cb8c026f497",
   "metadata": {},
   "outputs": [],
   "source": []
  }
 ],
 "metadata": {
  "kernelspec": {
   "display_name": "Python 3 (ipykernel)",
   "language": "python",
   "name": "python3"
  },
  "language_info": {
   "codemirror_mode": {
    "name": "ipython",
    "version": 3
   },
   "file_extension": ".py",
   "mimetype": "text/x-python",
   "name": "python",
   "nbconvert_exporter": "python",
   "pygments_lexer": "ipython3",
   "version": "3.12.4"
  }
 },
 "nbformat": 4,
 "nbformat_minor": 5
}
